{
 "cells": [
  {
   "cell_type": "code",
   "execution_count": 1,
   "id": "ccb45fee",
   "metadata": {},
   "outputs": [],
   "source": [
    "import numpy as np\n",
    "import matplotlib.pyplot as plt\n",
    "from scipy.sparse.linalg import gmres, spilu, LinearOperator\n",
    "from scipy.sparse import csr_matrix\n",
    "from scipy.integrate import dblquad\n",
    "from scipy.special import erf\n",
    "import imageio\n",
    "import os\n",
    "import warnings\n",
    "warnings.filterwarnings('ignore')"
   ]
  },
  {
   "cell_type": "markdown",
   "id": "21a92769",
   "metadata": {},
   "source": [
    "### Numeric solution"
   ]
  },
  {
   "cell_type": "code",
   "execution_count": 2,
   "id": "2cf4eb5d",
   "metadata": {},
   "outputs": [],
   "source": [
    "def gmres_solve(A, b, N, use_prec=True):\n",
    "    if use_prec:\n",
    "        ILU = spilu(A, fill_factor=1.0, drop_tol=1e-3)\n",
    "        prec = LinearOperator(((N-1)**2, (N-1)**2), matvec=ILU.solve)\n",
    "        return gmres(A, b, M=prec, tol=1e-6)[0]\n",
    "    else:\n",
    "        return gmres(A, b, tol=1e-6)[0]"
   ]
  },
  {
   "cell_type": "code",
   "execution_count": 3,
   "id": "e3e9ece8",
   "metadata": {},
   "outputs": [],
   "source": [
    "integrals = dict()\n",
    "integrals['phi_phi']     = np.array([[1/36, 1/9, 1/36],\n",
    "                                     [1/9, 4/9, 1/9],\n",
    "                                     [1/36, 1/9, 1/36]]).T\n",
    "integrals['phi_dxphi']   = np.array([[1/12, 0, -1/12],\n",
    "                                     [1/3, 0, -1/3],\n",
    "                                     [1/12, 0, -1/12]]).T\n",
    "integrals['dxphi_phi']   = np.array([[-1/12, 0, 1/12], \n",
    "                                     [-1/3, 0, 1/3], \n",
    "                                     [-1/12, 0, 1/12]]).T\n",
    "integrals['dxphi_dxphi'] = np.array([[-1/6, 1/3, -1/6],\n",
    "                                     [-2/3, 4/3, -2/3],\n",
    "                                     [-1/6, 1/3, -1/6]]).T\n",
    "integrals['dyphi_dyphi'] = np.array([[-1/6, -2/3, -1/6],\n",
    "                                     [1/3, 4/3, 1/3],\n",
    "                                     [-1/6, -2/3, -1/6]]).T"
   ]
  },
  {
   "cell_type": "code",
   "execution_count": 4,
   "id": "e864e517",
   "metadata": {},
   "outputs": [],
   "source": [
    "c_0 = 1\n",
    "a = 10\n",
    "d_x, d_y = 1e-4, 1e-1\n",
    "\n",
    "#square [0:200] x [-100:100]\n",
    "N = 200\n",
    "h = 200.0 / N\n",
    "\n",
    "P = h/d_x # Peclet number\n",
    "\n",
    "supg = True\n",
    "if supg and P >= 1:\n",
    "    delta_e = (h - d_x) / 2\n",
    "else:\n",
    "    delta_e = 0\n",
    "\n",
    "g_D = lambda x, y: c_0 if x == 0 and abs(y) < 10 else 0\n",
    "\n",
    "T = 50\n",
    "dt = h"
   ]
  },
  {
   "cell_type": "code",
   "execution_count": 5,
   "id": "092cceee",
   "metadata": {
    "scrolled": false
   },
   "outputs": [],
   "source": [
    "u_prev = np.zeros((N+1)**2)\n",
    "\n",
    "for j in range(0, N):\n",
    "    u_prev[(N+1)*j] = g_D(0, -100+h*j)\n",
    "solutions = [u_prev]\n",
    "\n",
    "filenames = []\n",
    "\n",
    "for t in np.arange(0, T, dt):\n",
    "    row_start = [0]\n",
    "    col_id = []\n",
    "    data = []\n",
    "    b = []\n",
    "\n",
    "    for j in range(1, N):\n",
    "        for i in range(1, N):\n",
    "            b_coef = 0\n",
    "            ncoefs = 0\n",
    "            for it_k in [-1, 0, 1]:\n",
    "                for it_l in [-1, 0, 1]:\n",
    "                    int_k, int_l = it_k + 1, it_l + 1\n",
    "                    k, l = i + it_k, j + it_l\n",
    "\n",
    "                    C_1 = h**2 * integrals['phi_phi'][int_k, int_l] + \\\n",
    "                         delta_e * h * integrals['phi_dxphi'][int_k, int_l]\n",
    "                    C_2 = dt * (h * integrals['dxphi_phi'][int_k, int_l] * h + \\\n",
    "                                delta_e * integrals['dxphi_dxphi'][int_k, int_l])\n",
    "                    C_3 = dt * (d_x * integrals['dxphi_dxphi'][int_k, int_l] + \\\n",
    "                                d_y * integrals['dyphi_dyphi'][int_k, int_l])\n",
    "                    \n",
    "                    if 0 < k < N and 0 < l < N:\n",
    "                        col_id.append(k-1 + (N-1)*(l-1))\n",
    "                        data.append(C_1 + C_2 + C_3)\n",
    "                        b_coef += C_1 * u_prev[k + (N+1)*l]\n",
    "                        ncoefs += 1\n",
    "                    else:\n",
    "                        b_coef += -(C_2 + C_3) * u_prev[k + (N+1)*l]\n",
    "            \n",
    "            b.append(b_coef)   \n",
    "            row_start.append(row_start[-1] + ncoefs)\n",
    "                    \n",
    "    A = csr_matrix((data, col_id, row_start))\n",
    "\n",
    "    u_sol = gmres_solve(A, b, N).reshape((N-1, N-1), order='F')\n",
    "    u_prev = u_prev.reshape((N+1, N+1), order='F')\n",
    "    u_prev[1:N, 1:N] = u_sol.copy()\n",
    "    solutions.append(u_prev)\n",
    "    \n",
    "    filename = f'./gif/{t+1}.png'\n",
    "    filenames.append(filename)\n",
    "\n",
    "    fig, ax = plt.subplots(figsize=(8, 4))\n",
    "    ax.set_xticks([0, 20, 40, 60, 80, 100])\n",
    "    ax.set_yticks([0, 10, 20, 30, 40])\n",
    "    ax.set_yticklabels([-20, -10, 0, 10, 20])\n",
    "    ax.set_title(fr'$u_h(x, y, t={t+1:.1f}$)')\n",
    "    ax.imshow(u_prev[0:(N // 2)+1, (4 * N // 10)-1:(6 * N // 10)+1].T, origin='lower')\n",
    "    plt.savefig(filename, dpi=200)\n",
    "    plt.close()\n",
    "    u_prev = u_prev.reshape(((N+1)**2), order='F')"
   ]
  },
  {
   "cell_type": "code",
   "execution_count": 6,
   "id": "cd99d3d7",
   "metadata": {},
   "outputs": [],
   "source": [
    "images = []\n",
    "for filename in filenames:\n",
    "   images.append(imageio.imread(filename))\n",
    "imageio.mimsave('./gif/advection.gif', images)"
   ]
  },
  {
   "cell_type": "markdown",
   "id": "bf3db16e",
   "metadata": {},
   "source": [
    "### Analytic solution"
   ]
  },
  {
   "cell_type": "code",
   "execution_count": 7,
   "id": "ec1307e6",
   "metadata": {},
   "outputs": [],
   "source": [
    "def eval_func(x, y, t, n=10**3):\n",
    "    def f(x, y, tau):\n",
    "        return tau**(-3/2) * (erf((a+y)/np.sqrt(4*d_y*tau)) + erf((a-y)/np.sqrt(4*d_y*tau))) * np.exp(-(x-tau)**2/(4*d_x*tau))\n",
    "    \n",
    "    def theta(j):\n",
    "        return np.cos(np.pi*(2*j-1) / (2*n))\n",
    "        \n",
    "    vec_1 = np.fromfunction(lambda j: np.sqrt(1 - theta(j)**2), (n+1,))[1:]\n",
    "    vec_2 = np.fromfunction(lambda j: f(x, y, t * (theta(j) + 1) / 2), (n+1,))[1:]\n",
    "\n",
    "    return x*c_0 / np.sqrt(16 * np.pi * d_x) * np.pi*t / (2*n) * np.dot(vec_1, vec_2)"
   ]
  },
  {
   "cell_type": "code",
   "execution_count": 8,
   "id": "4d86d021",
   "metadata": {},
   "outputs": [],
   "source": [
    "filenames = []\n",
    "true_solutions = []\n",
    "for t in np.arange(1, T, 5):\n",
    "    u_true = np.fromfunction(lambda i, j: np.vectorize(eval_func)(i*h, j*h - 100, t), (N+1, N+1))\n",
    "    for j in range(0, N):\n",
    "        u_true[0][j] = g_D(0, -100+h*j)\n",
    "    true_solutions.append(u_true)\n",
    "\n",
    "    filename = f'./gif_true/{t+1}.png'\n",
    "    filenames.append(filename)\n",
    "\n",
    "    fig, ax = plt.subplots(figsize=(8, 4))\n",
    "    ax.set_xticks([0, 20, 40, 60, 80, 100])\n",
    "    ax.set_yticks([0, 10, 20, 30, 40])\n",
    "    ax.set_yticklabels([-20, -10, 0, 10, 20])\n",
    "    ax.set_title(fr'$u(x, y, t={t+1:.1f}$)')\n",
    "    ax.imshow(u_true[0:(N // 2)+1, (4 * N // 10)-1:(6 * N // 10)+1].T, origin='lower')\n",
    "    plt.savefig(filename, dpi=200)\n",
    "    plt.close()"
   ]
  },
  {
   "cell_type": "code",
   "execution_count": 9,
   "id": "c8dbd330",
   "metadata": {},
   "outputs": [],
   "source": [
    "images = []\n",
    "for filename in filenames:\n",
    "   images.append(imageio.imread(filename))\n",
    "imageio.mimsave('./gif_true/advection.gif', images)"
   ]
  },
  {
   "cell_type": "markdown",
   "id": "52006d30",
   "metadata": {},
   "source": [
    "### Error evaluation"
   ]
  },
  {
   "cell_type": "code",
   "execution_count": 10,
   "id": "9f1aeea3",
   "metadata": {},
   "outputs": [
    {
     "name": "stdout",
     "output_type": "stream",
     "text": [
      "C-norm error: 0.4482543242671212\n"
     ]
    }
   ],
   "source": [
    "t = 50\n",
    "u_true = np.fromfunction(lambda i, j: np.vectorize(eval_func)(i*h, j*h - 100, t), (N+1, N+1))\n",
    "for j in range(0, N):\n",
    "    u_true[0][j] = g_D(0, -100+h*j)\n",
    "\n",
    "print(f'C-norm error: {np.abs(solutions[t] - u_true).max()}')"
   ]
  }
 ],
 "metadata": {
  "interpreter": {
   "hash": "ffc35bd13df2601deea0e5dda5824846d1114e87acba430793bbaf38bb8096cc"
  },
  "kernelspec": {
   "display_name": "Python 3.9.0 64-bit",
   "name": "python3"
  },
  "language_info": {
   "codemirror_mode": {
    "name": "ipython",
    "version": 3
   },
   "file_extension": ".py",
   "mimetype": "text/x-python",
   "name": "python",
   "nbconvert_exporter": "python",
   "pygments_lexer": "ipython3",
   "version": "3.9.2"
  }
 },
 "nbformat": 4,
 "nbformat_minor": 5
}
