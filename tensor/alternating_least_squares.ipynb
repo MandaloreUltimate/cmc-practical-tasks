{
 "cells": [
  {
   "cell_type": "markdown",
   "metadata": {},
   "source": [
    "### Alternating least squares"
   ]
  },
  {
   "cell_type": "markdown",
   "metadata": {},
   "source": [
    "Let $A = A(i, j, k) \\in \\mathbb{R}^{n_1 \\times n_2 \\times n_3}$ be 3-dimensional tensor; its CP decomposition of rank $r$:\n",
    "\n",
    "$$ A(i, j, k) = \\sum_{\\alpha=1}^{r} u_{\\alpha}(i) v_{\\alpha}(j) w_{\\alpha}(k). $$\n",
    "\n",
    "Coefficients $u_{\\alpha}(i)$, $v_{\\alpha}(j)$, $w_{\\alpha}(k)$ form matrices $U \\in \\mathbb{R}^{n_1 \\times r}$, $V \\in \\mathbb{R}^{n_2 \\times r}$, $W \\in \\mathbb{R}^{n_3 \\times r}$.\n",
    "\n",
    "Alternating least squares algorithm for CP decomposition of rank $r$:\n",
    "1. Initialize $U$, $V$, $W$ with random values.\n",
    "2. Compute current tensor approximation $\\tilde{A}(i, j, k) = \\sum_{\\alpha=1}^{r} u_{\\alpha}(i) v_{\\alpha}(j) w_{\\alpha}(k)$\n",
    "3. While $||A - \\tilde{A}||_F < \\varepsilon_2$ or $||U_{new} - U||_F + ||V_{new} - V||_F + ||W_{new} - W||_F < \\varepsilon_2$:\n",
    "   1. Fix $\\tilde{v}_{\\alpha}(j)$, $\\tilde{w}_{\\alpha}(k)$ and solve least squares problem $||A(i, j, k) - \\sum_{\\alpha=1}^{r} u_{\\alpha}(i) \\tilde{v}_{\\alpha}(j) \\tilde{w}_{\\alpha}(k)||_F \\to \\min\\limits_{u_{\\alpha}(i)}$.\n",
    "   2. The least-squares problem is equivalent to solving the following linear system:\n",
    "      $$ \\underbrace{\\begin{bmatrix}          A(1, 1, 1) \\\\          \\vdots \\\\          A(1, 1, n_3) \\\\          A(1, 2, 1) \\\\          \\vdots \\\\          A(1, n_2, n_3) \\\\          A(2, 1, 1) \\\\          \\vdots \\\\          A(2, n_2, n_3) \\\\          \\vdots \\\\          \\end{bmatrix}}_{\\bar{A}} =                  \\underbrace{\\begin{bmatrix}             v_1(1)w_1(1) & 0 & 0 & \\cdots \\\\             \\vdots & \\vdots & \\vdots & \\cdots \\\\             v_1(1)w_1(n_3) & \\vdots & \\vdots & \\cdots \\\\             v_1(2)w_1(1) & \\vdots & \\vdots & \\cdots \\\\             \\vdots & \\vdots & \\vdots & \\cdots \\\\             v_1(n_2)w_1(n_3) & \\vdots & \\vdots & \\cdots \\\\             0 & v_1(1)w_1(1) & \\vdots & \\cdots \\\\             \\vdots & \\vdots & \\vdots & \\cdots \\\\             0 & v_1(n_2)w_1(n_3) & 0 & \\cdots \\\\             \\vdots & \\vdots & \\vdots & \\cdots \\\\          \\end{bmatrix}}_{H_u}           \\underbrace{\\begin{bmatrix}          u_1(1) \\\\          u_1(2) \\\\          \\vdots \\\\          u_1(n_1) \\\\          u_2(1) \\\\          \\vdots          \\end{bmatrix}}_{\\bar{U}},       $$\n",
    "      where $\\bar{A} \\in \\mathbb{R}^{n_1 \\times n_2 \\times n_3}$, $\\bar{U} \\in \\mathbb{R}^{n_1 \\times r}$ are the flattened copies of $A$ and $U$ respectively.\n",
    "   3. Perform the same procedure for $v_{\\alpha}(j)$ and $u_{\\alpha}(k)$.\n",
    "\n",
    "Below, there is a generalized version of the ALS algorithm for CP decomposition of $n$-dimensional tensors."
   ]
  },
  {
   "cell_type": "code",
   "execution_count": 1,
   "metadata": {},
   "outputs": [],
   "source": [
    "import numpy as np\n",
    "import matplotlib.pyplot as plt\n",
    "\n",
    "import tensorly as tl\n",
    "from tensorly.decomposition import parafac\n",
    "\n",
    "import itertools\n",
    "import warnings\n",
    "warnings.filterwarnings('ignore')\n",
    "\n",
    "np.set_printoptions(suppress=True)"
   ]
  },
  {
   "cell_type": "code",
   "execution_count": 2,
   "metadata": {},
   "outputs": [],
   "source": [
    "def cp_reconstruct(factors):\n",
    "    # reconstruct tensor from CP-decomposition\n",
    "    def check_shape(factors):\n",
    "        it = iter(factors)\n",
    "        first = next(it, None)\n",
    "        return all(f.ndim == 2 and f.shape[1] == first.shape[1] for f in it)\n",
    "        \n",
    "    assert check_shape(factors), \"Some of the factors shape or dimensionality is wrong\"\n",
    "    rank = factors[0].shape[1]\n",
    "    tensor_dim = len(factors)\n",
    "\n",
    "    A = np.zeros(tuple(f.shape[0] for f in factors))\n",
    "    for j_rk in range(rank):\n",
    "        outer_product = factors[0][:, j_rk]\n",
    "        for i in range(1, tensor_dim):\n",
    "            outer_product = np.outer(outer_product, factors[i][:, j_rk])\n",
    "        A += outer_product.reshape(tuple(f.shape[0] for f in factors))\n",
    "    return A\n",
    "\n",
    "def random_tensor(ndim=None, shape=None, seed=None, ndim_bounds=(2, 5), shape_bounds=(1, 10), values_bounds=(0, 10)):\n",
    "    if seed:\n",
    "        np.random.seed(seed)\n",
    "    if not ndim:\n",
    "        ndim = np.random.randint(ndim_bounds[0], ndim_bounds[1], 1)\n",
    "    if not shape:\n",
    "        shape = np.random.randint(shape_bounds[0], shape_bounds[1], ndim)\n",
    "    return np.random.uniform(values_bounds[0], values_bounds[1], shape)\n",
    "\n",
    "def reorder_rhs(rhs, tensor_shape, fixed_var):\n",
    "    # reorder rhs in linear system accordingly to a fixed variable\n",
    "    assert len(rhs) == np.prod(tensor_shape), \"Vector and tensor shapes mismatch\"\n",
    "\n",
    "    dim = len(tensor_shape)\n",
    "    assert 0 <= fixed_var <= dim - 1, f\"Fixed variable index {fixed_var} out of bounds [0;{dim-1}]\"\n",
    "    \n",
    "    tensor_axes = []\n",
    "    for i in range(dim):\n",
    "        tensor_axes.append([x for x in range(tensor_shape[i])])\n",
    "    tensor_indices = [i for i in itertools.product(*tensor_axes)] # cartesian product of indices along every axis\n",
    "    # sort tensor indices wrt to fixed variable, rearrange rhs values accordingly\n",
    "    sorted_indices, sorted_rhs = zip(*sorted(zip(tensor_indices, rhs), key=lambda x: (x[0][fixed_var], *np.delete(x[0], fixed_var))))\n",
    "    return sorted_indices, sorted_rhs\n",
    "\n",
    "def generate_coefs(factors, j_rk, drop_var):\n",
    "    tensor_dim = len(factors)\n",
    "    flag = False\n",
    "    for i in range(tensor_dim):\n",
    "        if i == drop_var:\n",
    "            continue\n",
    "        if not flag:\n",
    "            outer_product = factors[i][:, j_rk]\n",
    "            flag = True\n",
    "        else:\n",
    "            outer_product = np.outer(outer_product, factors[i][:, j_rk])\n",
    "    return outer_product.flatten()"
   ]
  },
  {
   "cell_type": "code",
   "execution_count": 3,
   "metadata": {},
   "outputs": [
    {
     "data": {
      "text/plain": [
       "array([[[ 15.,  18.,  21.],\n",
       "        [ 20.,  24.,  28.],\n",
       "        [ 25.,  30.,  35.]],\n",
       "\n",
       "       [[ 30.,  36.,  42.],\n",
       "        [ 40.,  48.,  56.],\n",
       "        [ 50.,  60.,  70.]],\n",
       "\n",
       "       [[ 45.,  54.,  63.],\n",
       "        [ 60.,  72.,  84.],\n",
       "        [ 75.,  90., 105.]]])"
      ]
     },
     "execution_count": 3,
     "metadata": {},
     "output_type": "execute_result"
    }
   ],
   "source": [
    "a = np.expand_dims(np.array([1, 2, 3]), -1)\n",
    "b = np.expand_dims(np.array([3, 4, 5]), -1)\n",
    "c = np.expand_dims(np.array([5, 6, 7]), -1)\n",
    "\n",
    "A = cp_reconstruct([a, b, c])\n",
    "A"
   ]
  },
  {
   "cell_type": "code",
   "execution_count": 4,
   "metadata": {},
   "outputs": [
    {
     "data": {
      "text/plain": [
       "1.1724619245198416e-15"
      ]
     },
     "execution_count": 4,
     "metadata": {},
     "output_type": "execute_result"
    }
   ],
   "source": [
    "rank = 2\n",
    "tA = tl.tensor(A)\n",
    "factors = parafac(tA, rank=rank)\n",
    "A_approx = tl.cp_to_tensor(factors)\n",
    "np.linalg.norm((A - A_approx).flatten()) / np.linalg.norm(A.flatten())"
   ]
  },
  {
   "cell_type": "code",
   "execution_count": 5,
   "metadata": {},
   "outputs": [
    {
     "name": "stdout",
     "output_type": "stream",
     "text": [
      "Iterations: 37, final relative error: 3.0415227099556675e-07\n"
     ]
    }
   ],
   "source": [
    "U = [np.ones((dim, rank)) for dim in A.shape]\n",
    "U_prev = np.copy(U)\n",
    "rhs_reordered_sets = [reorder_rhs(A.flatten(), A.shape, dim)[1] for dim in range(A.ndim)]\n",
    "\n",
    "eps = 1e-6\n",
    "loss_log = []\n",
    "\n",
    "for i in range(1000):\n",
    "    for dim in range(A.ndim):\n",
    "        dim_len = U[dim].shape[0]\n",
    "        rhs = rhs_reordered_sets[dim]\n",
    "        coefs_arr = [generate_coefs(U, j_rk, dim) for j_rk in range(rank)]\n",
    "        dims_product_len = coefs_arr[0].shape[0]\n",
    "        assert len(rhs) == dims_product_len * dim_len, \"Coefficients column and rhs shapes mismatch\"\n",
    "\n",
    "        H = np.zeros((len(rhs), dim_len*rank))\n",
    "        for j_k in range(dim_len): #fill coefficients columns\n",
    "            H[j_k*dims_product_len:(j_k+1)*dims_product_len, j_k:dim_len*rank:dim_len] = np.array(coefs_arr).T\n",
    "        \n",
    "        U_prev[dim] = U[dim]\n",
    "        U[dim] = np.linalg.lstsq(H, rhs)[0].reshape(rank, dim_len).T\n",
    "\n",
    "    A_err = np.linalg.norm((A - cp_reconstruct(U)).flatten()) / np.linalg.norm(A.flatten())\n",
    "    loss_log.append(A_err)\n",
    "    if A_err < eps:\n",
    "        break\n",
    "print(f\"Iterations: {len(loss_log)}, final relative error: {loss_log[-1]}\")"
   ]
  },
  {
   "cell_type": "code",
   "execution_count": 6,
   "metadata": {},
   "outputs": [
    {
     "data": {
      "text/plain": [
       "[<matplotlib.lines.Line2D at 0x217d4b361f0>]"
      ]
     },
     "execution_count": 6,
     "metadata": {},
     "output_type": "execute_result"
    },
    {
     "data": {
      "image/png": "[encoded data removed]",
      "text/plain": [
       "<Figure size 432x288 with 1 Axes>"
      ]
     },
     "metadata": {
      "needs_background": "light"
     },
     "output_type": "display_data"
    }
   ],
   "source": [
    "plt.plot(np.log(loss_log))"
   ]
  },
  {
   "cell_type": "code",
   "execution_count": null,
   "metadata": {},
   "outputs": [],
   "source": []
  }
 ],
 "metadata": {
  "interpreter": {
   "hash": "0089eca24384de5969a03a21ccbfe30754c7acfe39d7099349a1b36d514b183c"
  },
  "kernelspec": {
   "display_name": "Python 3.9.2 64-bit",
   "language": "python",
   "name": "python3"
  },
  "language_info": {
   "codemirror_mode": {
    "name": "ipython",
    "version": 3
   },
   "file_extension": ".py",
   "mimetype": "text/x-python",
   "name": "python",
   "nbconvert_exporter": "python",
   "pygments_lexer": "ipython3",
   "version": "3.9.2"
  },
  "orig_nbformat": 4
 },
 "nbformat": 4,
 "nbformat_minor": 2
}
