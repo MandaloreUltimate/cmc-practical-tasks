{
 "cells": [
  {
   "cell_type": "markdown",
   "metadata": {},
   "source": [
    "### Tensor train decomposition"
   ]
  },
  {
   "cell_type": "markdown",
   "metadata": {},
   "source": [
    "Let $A = A(i_1, i_2, \\ldots, i_d) \\in \\mathbb{R}^{n_1 \\times n_2 \\times \\ldots \\times n_d}$ be $d$-dimensional tensor, $A(i_1, i_2 \\ldots i_n) \\in \\mathbb{R}^{n_1 \\times n_2 \\ldots n_d}$ - its slice matrix along 1st axis.\n",
    "\n",
    "Tensor train decomposition algorithm:\n",
    "1. Initialize slice matrix $A_{cur} = A(i_1, i_2 \\ldots i_n)$ and let $r_0 = r_d = 1$\n",
    "2. For $k$ in $1...d-1$:\n",
    "   1. $A_{cur} = \\{\\operatorname{SVD}\\} = U_k \\Sigma_k V_k = \\tilde{U_k} V_k$, where $\\tilde{U_k} \\in \\mathbb{R}^{n_k r_{k-1} \\times r_k}$\n",
    "   2. if $k < d$: $A_{cur} = \\operatorname{reshape}(V_k) \\in \\mathbb{R}^{n_{k+1} r_k \\times n_{k+2}}$ else $\\tilde{U_d} = \\operatorname{reshape}(V_{d-1}) \\in \\mathbb{R}^{n_d r_{d-1} \\times r_d}$\n",
    "\n",
    "$\\tilde{U}_i$ are the factors of tensor train decomposition."
   ]
  },
  {
   "cell_type": "code",
   "execution_count": 6,
   "metadata": {},
   "outputs": [],
   "source": [
    "import numpy as np"
   ]
  },
  {
   "cell_type": "code",
   "execution_count": 7,
   "metadata": {},
   "outputs": [],
   "source": [
    "def random_tensor(ndim=None, shape=None, seed=None, ndim_bounds=(2, 5), shape_bounds=(2, 10), values_bounds=(0, 10)):\n",
    "    if seed:\n",
    "        np.random.seed(seed)\n",
    "    if not ndim:\n",
    "        ndim = np.random.randint(ndim_bounds[0], ndim_bounds[1], 1)\n",
    "    if not shape:\n",
    "        shape = np.random.randint(shape_bounds[0], shape_bounds[1], ndim)\n",
    "    return np.random.uniform(values_bounds[0], values_bounds[1], shape)"
   ]
  },
  {
   "cell_type": "code",
   "execution_count": 8,
   "metadata": {},
   "outputs": [],
   "source": [
    "ndim = 4\n",
    "N = 32\n",
    "directions = np.meshgrid(*([np.arange(N)]*ndim), indexing='ij')\n",
    "A = np.array(directions).sum(axis=0).astype(float)"
   ]
  },
  {
   "cell_type": "code",
   "execution_count": 9,
   "metadata": {},
   "outputs": [],
   "source": [
    "A_cur = A.reshape(A.shape[0], np.prod(A.shape) // A.shape[0])\n",
    "U_list = []\n",
    "r = [1]\n",
    "shape = A.shape\n",
    "\n",
    "for i in range(ndim-1):\n",
    "    U, s, V = np.linalg.svd(A_cur, full_matrices=False)\n",
    "    s = s[s > 1e-6]\n",
    "    rank = len(s)\n",
    "    r.append(len(s))\n",
    "    U = U[:, :rank]; V = V[:rank, :]\n",
    "    U = U.reshape(r[i], shape[i], r[i+1]) @ np.diag(s)\n",
    "    U_list.append(U)\n",
    "\n",
    "    if i < ndim - 2:\n",
    "        A_cur = V.reshape(r[i+1] * shape[i+1], np.prod(shape[i+2:]))\n",
    "    else:\n",
    "        r.append(1)\n",
    "        U_list.append(V.reshape(r[ndim-1], shape[ndim-1], r[ndim]))"
   ]
  },
  {
   "cell_type": "code",
   "execution_count": 10,
   "metadata": {},
   "outputs": [
    {
     "data": {
      "text/plain": [
       "1.9528505702174035e-09"
      ]
     },
     "execution_count": 10,
     "metadata": {},
     "output_type": "execute_result"
    }
   ],
   "source": [
    "A_approx = U_list[0].reshape(shape[0], r[1])\n",
    "for i in range(1, ndim):\n",
    "    A_approx = (A_approx @ U_list[i].reshape(r[i], shape[i]*r[i+1])).reshape(A_approx.shape[0]*shape[i], r[i+1])\n",
    "np.linalg.norm(A_approx.reshape(shape) - A)"
   ]
  }
 ],
 "metadata": {
  "interpreter": {
   "hash": "0089eca24384de5969a03a21ccbfe30754c7acfe39d7099349a1b36d514b183c"
  },
  "kernelspec": {
   "display_name": "Python 3.9.2 64-bit",
   "language": "python",
   "name": "python3"
  },
  "language_info": {
   "codemirror_mode": {
    "name": "ipython",
    "version": 3
   },
   "file_extension": ".py",
   "mimetype": "text/x-python",
   "name": "python",
   "nbconvert_exporter": "python",
   "pygments_lexer": "ipython3",
   "version": "3.9.2"
  },
  "orig_nbformat": 4
 },
 "nbformat": 4,
 "nbformat_minor": 2
}
