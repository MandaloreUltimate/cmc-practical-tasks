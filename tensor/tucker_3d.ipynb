{
 "cells": [
  {
   "cell_type": "markdown",
   "metadata": {},
   "source": [
    "### Tucker decomposition (3D)"
   ]
  },
  {
   "cell_type": "markdown",
   "metadata": {},
   "source": [
    "Let $A = A(i, j, k) \\in \\mathbb{R}^{n_1 \\times n_2 \\times n_3}$ be 3-dimensional tensor, $A(i, jk) \\in \\mathbb{R}^{n_1 \\times n_2 n_3}$ - its slice matrix along $i$-axis.\n",
    "\n",
    "Tucker decomposition algorithm:\n",
    "1. $A(i, jk) = \\{\\operatorname{SVD}\\} = U_1 \\Sigma_1 \\tilde{V}$, where $U_1 \\in \\mathbb{R}^{n_1 \\times r_1}$, $\\Sigma_1 \\in \\mathbb{R}^{r_1 \\times r_1}$, $\\tilde{V} \\in \\mathbb{R}^{r_1 \\times n_2 n_3}$.\n",
    "2. $\\operatorname{reshape}(\\tilde{V}) = \\hat{V} \\in \\mathbb{R}^{r_1 n_2 \\times n_3}$.\n",
    "3. $\\hat{V} = \\{\\operatorname{SVD}\\} = \\tilde{U} \\Sigma_2 V_2$, where $U_2 \\in \\mathbb{R}^{r_1 n_2 \\times r_2}$, $\\Sigma_2 \\in \\mathbb{R}^{r_2 \\times r_2}$, $V_2 \\in \\mathbb{R}^{r_2 \\times n_3}$.\n",
    "4. $\\operatorname{reshape~\\&~transpose}(\\tilde{U}) = \\hat{U} \\in \\mathbb{R}^{r_1 r_2 \\times n_2}$.\n",
    "5. $\\hat{V} = \\{\\operatorname{SVD}\\} = U_3 \\Sigma_3 V_3$, where $U_3 \\in \\mathbb{R}^{r_1 r_2 \\times r_3}$, $\\Sigma_3 \\in \\mathbb{R}^{r_3 \\times r_3}$, $V_3 \\in \\mathbb{R}^{r_3 \\times n_2}$.\n",
    "6. Factors of 3-dimensional Tucker decomposition: $U = (U_1 \\Sigma_1)^T \\in \\mathbb{R}^{r_1 \\times n_1}$, $V = \\Sigma_2 V_2 \\in \\mathbb{R}^{r_3 \\times n_2}$, $W = \\Sigma_3 V_3 \\in \\mathbb{R}^{r_2 \\times n_3}$, $G = \\operatorname{reshape}(U_3) \\in \\mathbb{R}^{r_1 \\times r_2 \\times r_3}$"
   ]
  },
  {
   "cell_type": "code",
   "execution_count": 1,
   "metadata": {},
   "outputs": [],
   "source": [
    "import numpy as np"
   ]
  },
  {
   "cell_type": "code",
   "execution_count": 2,
   "metadata": {},
   "outputs": [],
   "source": [
    "N = 128\n",
    "i, j, k = np.meshgrid(np.arange(N), np.arange(N), np.arange(N), indexing='ij')\n",
    "A = (i + j + k)**2\n",
    "A = A.astype(float)\n",
    "Ai_jk = A.reshape(N, N*N)"
   ]
  },
  {
   "cell_type": "code",
   "execution_count": 3,
   "metadata": {},
   "outputs": [],
   "source": [
    "U_1, s_1, V_1 = np.linalg.svd(Ai_jk, full_matrices=False)\n",
    "s_1 = s_1[s_1 > 1e-6]\n",
    "r_1 = len(s_1)\n",
    "U_1 = U_1[:, :r_1]; V_1 = V_1[:r_1, :]\n",
    "U = U_1 @ np.diag(s_1)"
   ]
  },
  {
   "cell_type": "code",
   "execution_count": 4,
   "metadata": {},
   "outputs": [],
   "source": [
    "V_1 = V_1.reshape(r_1, N, N).reshape(r_1*N, N)\n",
    "\n",
    "U_2, s_2, V_2 = np.linalg.svd(V_1, full_matrices=False)\n",
    "s_2 = s_2[s_2 > 1e-6]\n",
    "r_2 = len(s_2)\n",
    "U_2 = U_2[:, :r_2]; V_2 = V_2[:r_2, :]\n",
    "W = np.diag(s_2) @ V_2"
   ]
  },
  {
   "cell_type": "code",
   "execution_count": 5,
   "metadata": {},
   "outputs": [],
   "source": [
    "U_2 = U_2.reshape(r_1, N, r_2).transpose([0, 2, 1]).reshape(r_1*r_2, N)\n",
    "\n",
    "U_3, s_3, V_3 = np.linalg.svd(U_2, full_matrices=False)\n",
    "s_3 = s_3[s_3 > 1e-6]\n",
    "r_3 = len(s_3)\n",
    "U_3 = U_3[:, :r_3]; V_3 = V_3[:r_3, :]\n",
    "V = np.diag(s_3) @ V_3\n",
    "G = U_3.reshape(r_1, r_2, r_3)"
   ]
  },
  {
   "cell_type": "code",
   "execution_count": 6,
   "metadata": {},
   "outputs": [
    {
     "name": "stdout",
     "output_type": "stream",
     "text": [
      "(128, 3) (3, 3, 3) (3, 128) (3, 128)\n"
     ]
    }
   ],
   "source": [
    "print(U.shape, G.shape, V.shape, W.shape)"
   ]
  },
  {
   "cell_type": "code",
   "execution_count": 7,
   "metadata": {},
   "outputs": [],
   "source": [
    "reconstruct_tensor = (U @ ((G.reshape(r_1*r_2, r_3) @ V).reshape(r_1, r_2, N).transpose([0, 2, 1]).reshape(r_1*N, r_2) @ W).reshape(r_1, N, N).reshape(r_1, N*N)).reshape(N, N, N)"
   ]
  },
  {
   "cell_type": "code",
   "execution_count": 8,
   "metadata": {},
   "outputs": [
    {
     "data": {
      "text/plain": [
       "1.396928648862498e-06"
      ]
     },
     "execution_count": 8,
     "metadata": {},
     "output_type": "execute_result"
    }
   ],
   "source": [
    "np.linalg.norm((A - reconstruct_tensor).flatten())"
   ]
  }
 ],
 "metadata": {
  "interpreter": {
   "hash": "0089eca24384de5969a03a21ccbfe30754c7acfe39d7099349a1b36d514b183c"
  },
  "kernelspec": {
   "display_name": "Python 3.9.2 64-bit",
   "language": "python",
   "name": "python3"
  },
  "language_info": {
   "codemirror_mode": {
    "name": "ipython",
    "version": 3
   },
   "file_extension": ".py",
   "mimetype": "text/x-python",
   "name": "python",
   "nbconvert_exporter": "python",
   "pygments_lexer": "ipython3",
   "version": "3.9.2"
  },
  "orig_nbformat": 4
 },
 "nbformat": 4,
 "nbformat_minor": 2
}
